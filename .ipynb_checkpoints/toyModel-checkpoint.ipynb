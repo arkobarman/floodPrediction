{
 "cells": [
  {
   "cell_type": "code",
   "execution_count": 1,
   "metadata": {},
   "outputs": [
    {
     "ename": "ModuleNotFoundError",
     "evalue": "No module named 'keras'",
     "output_type": "error",
     "traceback": [
      "\u001b[0;31m---------------------------------------------------------------------------\u001b[0m",
      "\u001b[0;31mModuleNotFoundError\u001b[0m                       Traceback (most recent call last)",
      "\u001b[0;32m<ipython-input-1-28015bb010a3>\u001b[0m in \u001b[0;36m<module>\u001b[0;34m\u001b[0m\n\u001b[1;32m      3\u001b[0m \u001b[0;32mimport\u001b[0m \u001b[0mtensorflow\u001b[0m\u001b[0;34m\u001b[0m\u001b[0;34m\u001b[0m\u001b[0m\n\u001b[1;32m      4\u001b[0m \u001b[0;32mfrom\u001b[0m \u001b[0mtensorflow\u001b[0m \u001b[0;32mimport\u001b[0m \u001b[0mkeras\u001b[0m\u001b[0;34m\u001b[0m\u001b[0;34m\u001b[0m\u001b[0m\n\u001b[0;32m----> 5\u001b[0;31m \u001b[0;32mfrom\u001b[0m \u001b[0mkeras\u001b[0m\u001b[0;34m.\u001b[0m\u001b[0mmodels\u001b[0m \u001b[0;32mimport\u001b[0m \u001b[0mSequential\u001b[0m\u001b[0;34m\u001b[0m\u001b[0;34m\u001b[0m\u001b[0m\n\u001b[0m\u001b[1;32m      6\u001b[0m \u001b[0;32mfrom\u001b[0m \u001b[0mkeras\u001b[0m\u001b[0;34m.\u001b[0m\u001b[0mlayers\u001b[0m \u001b[0;32mimport\u001b[0m \u001b[0mConv2D\u001b[0m\u001b[0;34m\u001b[0m\u001b[0;34m\u001b[0m\u001b[0m\n\u001b[1;32m      7\u001b[0m \u001b[0;32mfrom\u001b[0m \u001b[0mkeras\u001b[0m\u001b[0;34m.\u001b[0m\u001b[0mlayers\u001b[0m \u001b[0;32mimport\u001b[0m \u001b[0mBatchNormalization\u001b[0m\u001b[0;34m\u001b[0m\u001b[0;34m\u001b[0m\u001b[0m\n",
      "\u001b[0;31mModuleNotFoundError\u001b[0m: No module named 'keras'"
     ]
    }
   ],
   "source": [
    "# Import necessary libraries\n",
    "import numpy as np\n",
    "import tensorflow\n",
    "from tensorflow import keras\n",
    "from keras.models import Sequential\n",
    "from keras.layers import Conv2D\n",
    "from keras.layers import BatchNormalization\n",
    "from matplotlib import pyplot\n",
    "from sklearn.model_selection import train_test_split"
   ]
  },
  {
   "cell_type": "code",
   "execution_count": null,
   "metadata": {},
   "outputs": [],
   "source": [
    "# Run only to generate random data (Ignore this cell for toy simulation)\n",
    "\n",
    "\n",
    "dataset_length = 100 #Length of the dataset (100 3D data points)\n",
    "\n",
    "# x and y are the 2D dimensions of the equal dimension raster\n",
    "x = 6\n",
    "y = 6\n",
    "\n",
    "#z is the time axis (input data point has 30 timestamps)\n",
    "z = 30\n",
    "\n",
    "\n",
    "data_points = []\n",
    "for i in range(dataset_length):\n",
    "    rasters = []\n",
    "    for j in range(z):\n",
    "        raster_value = np.random.randn()\n",
    "        raster = [[raster_value]*y]*x #Each 2D raster has equal values\n",
    "        rasters.append(raster)\n",
    "    data_point = np.stack(tuple(rasters),axis = -1)\n",
    "    data_points.append(data_point)\n",
    "X = np.stack(tuple(data_points),axis = 0)\n",
    "\n",
    "\n",
    "# Creating output rasters\n",
    "z_out = 20\n",
    "out_data_points = []\n",
    "for i in range(dataset_length):\n",
    "    out_rasters = []\n",
    "    for j in range(z_out):\n",
    "        out_raster_value = np.random.randn()\n",
    "        out_raster = [[out_raster_value]*y]*x #Each 2D raster has equal values\n",
    "        out_rasters.append(out_raster)\n",
    "    out_data_point = np.stack(tuple(out_rasters),axis = -1)\n",
    "    out_data_points.append(out_data_point)\n",
    "X_out = np.stack(tuple(out_data_points),axis = 0)\n",
    "\n",
    "print(X.shape)\n",
    "print(X_out.shape)"
   ]
  }
 ],
 "metadata": {
  "kernelspec": {
   "display_name": "Python 3",
   "language": "python",
   "name": "python3"
  },
  "language_info": {
   "codemirror_mode": {
    "name": "ipython",
    "version": 3
   },
   "file_extension": ".py",
   "mimetype": "text/x-python",
   "name": "python",
   "nbconvert_exporter": "python",
   "pygments_lexer": "ipython3",
   "version": "3.7.7"
  }
 },
 "nbformat": 4,
 "nbformat_minor": 4
}
